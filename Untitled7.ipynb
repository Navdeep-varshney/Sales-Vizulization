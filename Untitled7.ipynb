{
 "cells": [
  {
   "cell_type": "code",
   "execution_count": null,
   "id": "c5a893d1",
   "metadata": {},
   "outputs": [],
   "source": [
    "A=str(input(\"First argument is an string A.\"))\n",
    "if len(A)>= 1 and len(A)<=100:\n",
    "    B=int(input(\"Second argument is an integer B.\"))\n",
    "    if(B>0):\n",
    "        C=int(input(\"Third argument is an integer C.\"))\n",
    "        print(A[B:C+1])\n",
    "\n",
    "\n",
    "\n"
   ]
  },
  {
   "cell_type": "code",
   "execution_count": null,
   "id": "11c8e109",
   "metadata": {},
   "outputs": [],
   "source": [
    "A=str(input(\"First argument is an string A.\"))\n",
    "if len(A)>= 1 and len(A)<=100:\n",
    "    B=int(input(\"Second argument is an integer B.\"))\n",
    "    if(B>0):\n",
    "        C=int(input(\"Third argument is an integer C.\"))\n",
    "        print(A[B:C+1])\n",
    "\n"
   ]
  },
  {
   "cell_type": "code",
   "execution_count": 5,
   "id": "e4ae931e",
   "metadata": {},
   "outputs": [
    {
     "name": "stdout",
     "output_type": "stream",
     "text": [
      "0\n",
      "1\n",
      "1\n",
      "2\n",
      "3\n",
      "5\n",
      "8\n",
      "13\n",
      "21\n",
      "34\n"
     ]
    }
   ],
   "source": [
    "def fabinaci_serires(n):\n",
    "    \n",
    "    if(n==0):\n",
    "        return 0\n",
    "    elif(n==1):\n",
    "        return 1\n",
    "        \n",
    "    else:\n",
    "        return(fabinaci_serires(n-1)+fabinaci_serires(n-2))\n",
    "for n in range(10):\n",
    "    print(fabinaci_serires(n))\n",
    "\n",
    "        "
   ]
  },
  {
   "cell_type": "code",
   "execution_count": 3,
   "id": "039d7f30",
   "metadata": {},
   "outputs": [
    {
     "name": "stdout",
     "output_type": "stream",
     "text": [
      "0\n",
      "1\n",
      "1\n",
      "2\n",
      "3\n",
      "5\n",
      "8\n",
      "13\n",
      "21\n",
      "34\n"
     ]
    }
   ],
   "source": [
    "def fibonacci_series(n):\n",
    "    if n == 0:\n",
    "        return 0\n",
    "    elif n == 1:\n",
    "        return 1\n",
    "    else:\n",
    "        return fibonacci_series(n - 1) + fibonacci_series(n - 2)\n",
    "\n",
    "# Print Fibonacci series for the first 10 numbers\n",
    "for i in range(10):\n",
    "    print(fibonacci_series(i))\n"
   ]
  },
  {
   "cell_type": "code",
   "execution_count": 6,
   "id": "1bf31826",
   "metadata": {},
   "outputs": [
    {
     "name": "stdout",
     "output_type": "stream",
     "text": [
      "False\n"
     ]
    }
   ],
   "source": [
    "print(1>2)"
   ]
  },
  {
   "cell_type": "code",
   "execution_count": 7,
   "id": "b2689a52",
   "metadata": {},
   "outputs": [],
   "source": [
    "x,y=3,\"3\""
   ]
  },
  {
   "cell_type": "code",
   "execution_count": 8,
   "id": "ba64ac14",
   "metadata": {},
   "outputs": [
    {
     "name": "stdout",
     "output_type": "stream",
     "text": [
      "3 3\n"
     ]
    }
   ],
   "source": [
    "print(x,y)\n"
   ]
  },
  {
   "cell_type": "code",
   "execution_count": 9,
   "id": "71e8d0f6",
   "metadata": {},
   "outputs": [
    {
     "data": {
      "text/plain": [
       "str"
      ]
     },
     "execution_count": 9,
     "metadata": {},
     "output_type": "execute_result"
    }
   ],
   "source": [
    "type(y)"
   ]
  },
  {
   "cell_type": "code",
   "execution_count": 26,
   "id": "7a3cc745",
   "metadata": {},
   "outputs": [
    {
     "name": "stdout",
     "output_type": "stream",
     "text": [
      "%d,%d,in the if condition 10 70\n",
      "False\n",
      "out of if condition 8 2\n",
      "out of if condition 4 2\n",
      "out of if condition 2 2\n",
      "%d,%d,in the if condition 1 2\n",
      "True\n",
      "out of if condition 64 4\n",
      "out of if condition 16 4\n",
      "out of if condition 4 4\n",
      "%d,%d,in the if condition 1 4\n",
      "True\n",
      "out of if condition 70 10\n",
      "%d,%d,in the if condition 7 10\n",
      "False\n"
     ]
    }
   ],
   "source": [
    "def is_power_of(number, base):\n",
    "    # Base case: when number is smaller than base.\n",
    "    if number < base:\n",
    "        # If number is equal to 1, it's a power (base**0).\n",
    "        print(\"%d,%d,in the if condition\",number, base)\n",
    "        return (number == 1)\n",
    "    \n",
    "    print(\"out of if condition\",number, base)\n",
    "    # Recursive case: keep dividing number by base.\n",
    "    return is_power_of(number // base, base)\n",
    "print(is_power_of(10, 70))  # Output: False\n",
    "\n",
    "print(is_power_of(8, 2))  # Output: True (2^3 = 8)\n",
    "print(is_power_of(64, 4))  # Output: True (4^3 = 64)\n",
    "print(is_power_of(70, 10))  # Output: False\n"
   ]
  },
  {
   "cell_type": "code",
   "execution_count": null,
   "id": "a803c00a",
   "metadata": {},
   "outputs": [],
   "source": [
    "def count_users(group):\n",
    "  count = 0\n",
    "  for member in get_members(group):\n",
    "    count += 1\n",
    "    if is_group(member):\n",
    "      count += count_users(member)\n",
    "  return count\n",
    "\n",
    "print(count_users(\"sales\")) # Should be 3\n",
    "print(count_users(\"engineering\")) # Should be 8\n",
    "print(count_users(\"everyone\")) # Should be 18\n"
   ]
  },
  {
   "cell_type": "code",
   "execution_count": 27,
   "id": "797946b6",
   "metadata": {},
   "outputs": [
    {
     "data": {
      "text/plain": [
       "int"
      ]
     },
     "execution_count": 27,
     "metadata": {},
     "output_type": "execute_result"
    }
   ],
   "source": [
    "type(3)"
   ]
  },
  {
   "cell_type": "code",
   "execution_count": 28,
   "id": "9d85aabf",
   "metadata": {},
   "outputs": [
    {
     "data": {
      "text/plain": [
       "int"
      ]
     },
     "execution_count": 28,
     "metadata": {},
     "output_type": "execute_result"
    }
   ],
   "source": [
    "x=3\n",
    "type(3)"
   ]
  },
  {
   "cell_type": "code",
   "execution_count": 29,
   "id": "c889b0bd",
   "metadata": {},
   "outputs": [
    {
     "data": {
      "text/plain": [
       "6"
      ]
     },
     "execution_count": 29,
     "metadata": {},
     "output_type": "execute_result"
    }
   ],
   "source": [
    "x=x+3\n",
    "x"
   ]
  },
  {
   "cell_type": "code",
   "execution_count": 33,
   "id": "db82aff1",
   "metadata": {},
   "outputs": [
    {
     "name": "stdout",
     "output_type": "stream",
     "text": [
      "my name is navdeep\n",
      "['m', 'y', ' ', 'n', 'a', 'm', 'e', ' ', 'i', 's', ' ', 'n', 'a', 'v', 'd', 'e', 'e', 'p']\n"
     ]
    },
    {
     "data": {
      "text/plain": [
       "list"
      ]
     },
     "execution_count": 33,
     "metadata": {},
     "output_type": "execute_result"
    }
   ],
   "source": [
    "name_sentence=\"my name is navdeep\"\n",
    "New_list=list(name_sentence)\n",
    "print(name_sentence)\n",
    "type(name_sentence)\n",
    "print(New_list)\n",
    "type(New_list)"
   ]
  },
  {
   "cell_type": "code",
   "execution_count": 43,
   "id": "736a8c03",
   "metadata": {},
   "outputs": [
    {
     "name": "stdout",
     "output_type": "stream",
     "text": [
      "['my', 'name', 'is', 'navdeep']\n"
     ]
    },
    {
     "data": {
      "text/plain": [
       "list"
      ]
     },
     "execution_count": 43,
     "metadata": {},
     "output_type": "execute_result"
    }
   ],
   "source": [
    "New_list=name_sentence.split()\n",
    "print(New_list)\n",
    "type(New_list)"
   ]
  },
  {
   "cell_type": "code",
   "execution_count": 45,
   "id": "442aaf82",
   "metadata": {},
   "outputs": [
    {
     "data": {
      "text/plain": [
       "str"
      ]
     },
     "execution_count": 45,
     "metadata": {},
     "output_type": "execute_result"
    }
   ],
   "source": [
    "\n",
    "x=\"\".join(New_list)\n",
    "x\n",
    "type(x)"
   ]
  },
  {
   "cell_type": "code",
   "execution_count": 47,
   "id": "5450699c",
   "metadata": {},
   "outputs": [
    {
     "name": "stdout",
     "output_type": "stream",
     "text": [
      "False\n"
     ]
    }
   ],
   "source": [
    "print(\"m\". isupper())"
   ]
  },
  {
   "cell_type": "code",
   "execution_count": 48,
   "id": "b948a2a2",
   "metadata": {},
   "outputs": [
    {
     "name": "stdout",
     "output_type": "stream",
     "text": [
      "[0, 7, 14, 19, 22, 24, 29]\n"
     ]
    }
   ],
   "source": [
    "def capital_indexes(string):\n",
    "    capital_letter_indexes = []\n",
    "    for index, char in enumerate(string):\n",
    "        if char.isupper():\n",
    "            capital_letter_indexes.append(index)\n",
    "    return capital_letter_indexes\n",
    "\n",
    "# Example usage\n",
    "input_string = \"Hello, World! This Is A Test String.\"\n",
    "result = capital_indexes(input_string)\n",
    "print(result)  "
   ]
  },
  {
   "cell_type": "code",
   "execution_count": 59,
   "id": "6402e337",
   "metadata": {},
   "outputs": [
    {
     "name": "stdout",
     "output_type": "stream",
     "text": [
      "[0]\n",
      "[11]\n"
     ]
    },
    {
     "data": {
      "text/plain": [
       "[]"
      ]
     },
     "execution_count": 59,
     "metadata": {},
     "output_type": "execute_result"
    }
   ],
   "source": [
    "def upper_case_index_fx(string):\n",
    "    for index,char in enumerate(string):\n",
    "        Upper_index=[]\n",
    "        if(char.isupper()):\n",
    "            Upper_index.append(index)\n",
    "            print(Upper_index)\n",
    "    return(Upper_index)    \n",
    "upper_case_index_fx(\"My name is Navdeep\")"
   ]
  },
  {
   "cell_type": "code",
   "execution_count": 61,
   "id": "8bb73c38",
   "metadata": {},
   "outputs": [
    {
     "data": {
      "text/plain": [
       "'d'"
      ]
     },
     "execution_count": 61,
     "metadata": {},
     "output_type": "execute_result"
    }
   ],
   "source": [
    "def mid(string):\n",
    "    if(string==[]or len(string)%2==0):\n",
    "        return([])\n",
    "    else:\n",
    "        mid_index=len(string)//2\n",
    "        return(string[mid_index])\n",
    "mid(\"navdeep\")\n",
    "    "
   ]
  },
  {
   "cell_type": "code",
   "execution_count": 62,
   "id": "e7982ff8",
   "metadata": {},
   "outputs": [
    {
     "data": {
      "text/plain": [
       "[]"
      ]
     },
     "execution_count": 62,
     "metadata": {},
     "output_type": "execute_result"
    }
   ],
   "source": [
    "mid(\"aa\")"
   ]
  },
  {
   "cell_type": "code",
   "execution_count": 66,
   "id": "c74a2654",
   "metadata": {},
   "outputs": [
    {
     "name": "stdout",
     "output_type": "stream",
     "text": [
      "0\n",
      "0\n",
      "0\n",
      "0\n",
      "0\n",
      "0\n",
      "0\n",
      "0\n",
      "0\n",
      "0\n",
      "0\n",
      "0\n",
      "0\n",
      "0\n",
      "0\n",
      "0\n",
      "0\n",
      "0\n",
      "0\n",
      "0\n",
      "0\n",
      "maximuma no of zeroes in given string is 0\n"
     ]
    }
   ],
   "source": [
    "def consecutive_zeros(binary_string):\n",
    "    zero_count=0\n",
    "    maximum=0\n",
    "    for char in binary_string:\n",
    "        if(char==0):\n",
    "            zero_count += 1\n",
    "            print(zero_count)\n",
    "        maximum=max(maximum,zero_count)    \n",
    "        print(maximum)\n",
    "    print(\"maximuma no of zeroes in given string is\",maximum )    \n",
    "consecutive_zeros(\"000101010000010111010\")\n"
   ]
  },
  {
   "cell_type": "code",
   "execution_count": 75,
   "id": "fd5d10a8",
   "metadata": {},
   "outputs": [
    {
     "name": "stdout",
     "output_type": "stream",
     "text": [
      "5\n"
     ]
    }
   ],
   "source": [
    "def consecutive_zeros(binary_string):\n",
    "    zero_count=0\n",
    "    maximum=0\n",
    "    for char in binary_string:\n",
    "        if(char==\"0\"):\n",
    "            zero_count += 1\n",
    "            maximum=max(maximum,zero_count)\n",
    "            #print(maximum)\n",
    "            \n",
    "        else:\n",
    "            zero_count=0\n",
    "    return maximum    \n",
    "print(consecutive_zeros(\"0100010000010101100\"))    \n",
    "    "
   ]
  },
  {
   "cell_type": "code",
   "execution_count": null,
   "id": "5a6a06c3",
   "metadata": {},
   "outputs": [],
   "source": [
    "def consecutive_zeros(binary_string):\n",
    "    zero_count = 0\n",
    "    maximum = 0\n",
    "    \n",
    "    for char in binary_string:\n",
    "        if char == '0':\n",
    "            zero_count += 1\n",
    "            maximum = max(maximum, zero_count)\n",
    "        else:\n",
    "            zero_count = 0\n",
    "    \n",
    "    return maximum\n",
    "\n",
    "print(consecutive_zeros(\"0100010000010101100\"))\n"
   ]
  },
  {
   "cell_type": "code",
   "execution_count": 79,
   "id": "aa342379",
   "metadata": {},
   "outputs": [
    {
     "ename": "NameError",
     "evalue": "name 'e6' is not defined",
     "output_type": "error",
     "traceback": [
      "\u001b[1;31m---------------------------------------------------------------------------\u001b[0m",
      "\u001b[1;31mNameError\u001b[0m                                 Traceback (most recent call last)",
      "\u001b[1;32m~\\AppData\\Local\\Temp\\ipykernel_1072\\13971804.py\u001b[0m in \u001b[0;36m<module>\u001b[1;34m\u001b[0m\n\u001b[0;32m      3\u001b[0m         \u001b[0mself\u001b[0m\u001b[1;33m.\u001b[0m\u001b[0mage\u001b[0m\u001b[1;33m=\u001b[0m\u001b[0mage\u001b[0m\u001b[1;33m\u001b[0m\u001b[1;33m\u001b[0m\u001b[0m\n\u001b[0;32m      4\u001b[0m         \u001b[0mself\u001b[0m\u001b[1;33m.\u001b[0m\u001b[0msex\u001b[0m\u001b[1;33m=\u001b[0m\u001b[0msex\u001b[0m\u001b[1;33m\u001b[0m\u001b[1;33m\u001b[0m\u001b[0m\n\u001b[1;32m----> 5\u001b[1;33m \u001b[0mrahul\u001b[0m\u001b[1;33m=\u001b[0m\u001b[0mperson\u001b[0m\u001b[1;33m(\u001b[0m\u001b[1;34m\"rahul\"\u001b[0m\u001b[1;33m,\u001b[0m\u001b[0me6\u001b[0m\u001b[1;33m)\u001b[0m\u001b[1;33m\u001b[0m\u001b[1;33m\u001b[0m\u001b[0m\n\u001b[0m\u001b[0;32m      6\u001b[0m \u001b[0mprint\u001b[0m\u001b[1;33m(\u001b[0m\u001b[0mrahul\u001b[0m\u001b[1;33m.\u001b[0m\u001b[0msex\u001b[0m\u001b[1;33m)\u001b[0m\u001b[1;33m\u001b[0m\u001b[1;33m\u001b[0m\u001b[0m\n",
      "\u001b[1;31mNameError\u001b[0m: name 'e6' is not defined"
     ]
    }
   ],
   "source": [
    "class person:\n",
    "    def __init__(self,age,sex):\n",
    "        self.age=age\n",
    "        self.sex=sex\n",
    "rahul=person(\"rahul\",6)\n",
    "print(rahul.sex)\n"
   ]
  },
  {
   "cell_type": "code",
   "execution_count": 80,
   "id": "55cabb08",
   "metadata": {},
   "outputs": [
    {
     "name": "stdout",
     "output_type": "stream",
     "text": [
      "['Hello', ' World!']\n"
     ]
    }
   ],
   "source": [
    "a = \"Hello, World!\"\n",
    "print(a.split(\",\")) # returns ['Hello', ' World!']\n"
   ]
  },
  {
   "cell_type": "code",
   "execution_count": 81,
   "id": "cc08b478",
   "metadata": {},
   "outputs": [
    {
     "name": "stdout",
     "output_type": "stream",
     "text": [
      "5\n",
      "10\n"
     ]
    }
   ],
   "source": [
    "def sum(*args):\n",
    "    sum =0\n",
    "    for num in args:\n",
    "        sum+=num\n",
    "    return sum\n",
    "print(sum(2,3))\n",
    "print(sum(2,3,5))"
   ]
  },
  {
   "cell_type": "code",
   "execution_count": 5,
   "id": "182dfb56",
   "metadata": {},
   "outputs": [
    {
     "name": "stdout",
     "output_type": "stream",
     "text": [
      "arg1: Geeks\n",
      "arg2: for\n",
      "arg3: ggeks\n",
      "arg1: Geeks\n",
      "arg2: for\n",
      "arg3: Geeks\n"
     ]
    }
   ],
   "source": [
    "def myFun(arg1, arg2, arg3):\n",
    "    print(\"arg1:\", arg1)\n",
    "\n",
    "    print(\"arg2:\", arg2)\n",
    "\n",
    "    print(\"arg3:\", arg3)\n",
    "\n",
    "\n",
    "# Now we can use *args or **kwargs to\n",
    "# pass arguments to this function :\n",
    "args = (\"Geeks\", \"for\",\"ggeks\")\n",
    "type(args)\n",
    "myFun(*args)\n",
    "\n",
    "kwargs = {\"arg1\": \"Geeks\", \"arg2\": \"for\", \"arg3\": \"Geeks\"}\n",
    "myFun(**kwargs)\n"
   ]
  },
  {
   "cell_type": "code",
   "execution_count": 20,
   "id": "19eae3c0",
   "metadata": {},
   "outputs": [
    {
     "name": "stdout",
     "output_type": "stream",
     "text": [
      "my name is \n",
      " navdeep \n",
      "rahu\n",
      "dict_items([('arg1', 'Geeks'), ('arg2', 'for'), ('arg3', 'Geeks')])\n"
     ]
    },
    {
     "data": {
      "text/plain": [
       "'\"\\nfor key,value in kwargs.split():\\n    print(key,value)\\n\\n    '"
      ]
     },
     "execution_count": 20,
     "metadata": {},
     "output_type": "execute_result"
    }
   ],
   "source": [
    "kwargs = {\"arg1\": \"Geeks\", \"arg2\": \"for\", \"arg3\": \"Geeks\"}\n",
    "print(\"my name is \\n navdeep\",\"\\n\"\"rahu\")\n",
    "type(kwargs)\n",
    "print(kwargs.items())\n",
    "\"\"\"\"\n",
    "for key,value in kwargs.split():\n",
    "    print(key,value)\\n\n",
    "    \"\"\""
   ]
  },
  {
   "cell_type": "code",
   "execution_count": 32,
   "id": "ab6bb780",
   "metadata": {},
   "outputs": [
    {
     "ename": "TabError",
     "evalue": "inconsistent use of tabs and spaces in indentation (1720871096.py, line 5)",
     "output_type": "error",
     "traceback": [
      "\u001b[1;36m  File \u001b[1;32m\"C:\\Users\\Hp\\AppData\\Local\\Temp\\ipykernel_9940\\1720871096.py\"\u001b[1;36m, line \u001b[1;32m5\u001b[0m\n\u001b[1;33m    self.speed = args[0]\u001b[0m\n\u001b[1;37m    ^\u001b[0m\n\u001b[1;31mTabError\u001b[0m\u001b[1;31m:\u001b[0m inconsistent use of tabs and spaces in indentation\n"
     ]
    }
   ],
   "source": [
    "# defining car class\n",
    "class car():\n",
    "\t# args receives unlimited no. of arguments as an array\n",
    "\tdef __init__(self, *args):\n",
    "        self.speed = args[0]\n",
    "        self.color = args[1]\n",
    "        self.gender = args[2]\n",
    "\n",
    "\n",
    "# creating objects of car class\n",
    "audi = car(200, 'red',\"male\")\n",
    "\"\"\"\"\"\"\"\"\"\"\n",
    "bmw = car(250, 'black')\n",
    "mb = car(190, 'white')\n",
    "\"\"\"\"\"\"\"\"\"\"\n",
    "# printing the color and speed of the cars\n",
    "print(audi.color)\n",
    "print(bmw.speed)\n",
    "type(audi.speed)"
   ]
  },
  {
   "cell_type": "code",
   "execution_count": 25,
   "id": "e07f542f",
   "metadata": {},
   "outputs": [
    {
     "name": "stdout",
     "output_type": "stream",
     "text": [
      "red\n",
      "250\n"
     ]
    }
   ],
   "source": [
    "# defining car class\n",
    "class car():\n",
    "\t# args receives unlimited no. of arguments as an array\n",
    "\tdef __init__(self, **kwargs):\n",
    "\t\t# access args index like array does\n",
    "\t\tself.speed = kwargs['s']\n",
    "\t\tself.color = kwargs['c']\n",
    "\n",
    "\n",
    "# creating objects of car class\n",
    "audi = car(s=200, c='red')\n",
    "bmw = car(s=250, c='black')\n",
    "mb = car(s=190, c='white')\n",
    "\n",
    "# printing the color and speed of cars\n",
    "print(audi.color)\n",
    "print(bmw.speed)\n"
   ]
  },
  {
   "cell_type": "code",
   "execution_count": 36,
   "id": "8528f12d",
   "metadata": {},
   "outputs": [
    {
     "name": "stdout",
     "output_type": "stream",
     "text": [
      "200,red,male\n",
      "250,black,Gender_not_mention\n",
      "190,white,Gender_not_mention\n"
     ]
    }
   ],
   "source": [
    "class Car():\n",
    "    def __init__(self, speed=0, color=\"default_color\", gender=\"Gender_not_mention\"):\n",
    "        self.speed = speed\n",
    "        self.color = color\n",
    "        self.gender = gender\n",
    "\n",
    "# Creating objects of Car class\n",
    "audi = Car(200, 'red', 'male')\n",
    "bmw = Car(250, 'black')\n",
    "mb = Car(190, 'white')\n",
    "\n",
    "# Printing the attributes of the cars\n",
    "print(audi.speed, audi.color, audi.gender,sep=\",\")  # Output: 200 red male\n",
    "print(bmw.speed, bmw.color, bmw.gender,sep=\",\")      # Output: 250 black default_gender\n",
    "print(mb.speed, mb.color, mb.gender,sep=\",\")          # Output: 190 white default_gender\n"
   ]
  },
  {
   "cell_type": "code",
   "execution_count": 11,
   "id": "0cd0e2c2",
   "metadata": {},
   "outputs": [
    {
     "name": "stdout",
     "output_type": "stream",
     "text": [
      "<class 'tuple'>\n",
      "2\n",
      "<class 'tuple'>\n"
     ]
    },
    {
     "data": {
      "text/plain": [
       "2"
      ]
     },
     "execution_count": 11,
     "metadata": {},
     "output_type": "execute_result"
    }
   ],
   "source": [
    "def param_count(*arg):\n",
    "    print(type(arg))\n",
    "    return len(arg)\n",
    "print(param_count(0,1))\n",
    "param_count([1,2],[])"
   ]
  },
  {
   "cell_type": "code",
   "execution_count": 14,
   "id": "634de4cd",
   "metadata": {},
   "outputs": [
    {
     "name": "stdout",
     "output_type": "stream",
     "text": [
      "2\n",
      "3\n",
      "sum of two numbers 5\n",
      "subtraction of two numbers -1\n",
      "product of two numbers 6\n"
     ]
    }
   ],
   "source": [
    "if __name__ == '__main__':\n",
    "    a = int(input())\n",
    "    b = int(input())\n",
    "    if (1<=a<=10**10)and 1<=b<=10**10:\n",
    "        print(\"sum of two numbers {}\".format(a+b))\n",
    "        print(\"subtraction of two numbers {}\"&(a-b))\n",
    "        print(\"product of two numbers {}\"&(a*b))"
   ]
  },
  {
   "cell_type": "markdown",
   "id": "e97c0bd6",
   "metadata": {},
   "source": [
    "if __name__ == '__main__':\n",
    "    n = int(input())\n",
    "    for i in range(0,n):\n",
    "        print(i*i)"
   ]
  },
  {
   "cell_type": "code",
   "execution_count": 25,
   "id": "edf8985c",
   "metadata": {},
   "outputs": [
    {
     "ename": "SyntaxError",
     "evalue": "invalid syntax (2819668521.py, line 9)",
     "output_type": "error",
     "traceback": [
      "\u001b[1;36m  File \u001b[1;32m\"C:\\Users\\Hp\\AppData\\Local\\Temp\\ipykernel_2100\\2819668521.py\"\u001b[1;36m, line \u001b[1;32m9\u001b[0m\n\u001b[1;33m    else leap=True\u001b[0m\n\u001b[1;37m         ^\u001b[0m\n\u001b[1;31mSyntaxError\u001b[0m\u001b[1;31m:\u001b[0m invalid syntax\n"
     ]
    }
   ],
   "source": [
    "def is_leap(year):\n",
    "    leap = False\n",
    "    if year%4==0:\n",
    "        if(year%100==0):\n",
    "            if(year%400==0):\n",
    "                leap=True\n",
    "            \n",
    "            else:leap=False\n",
    "        else leap=True\n",
    "    # Write your logic here\n",
    "    \n",
    "    return leap\n",
    "\n",
    "year = int(input())\n",
    "print(is_leap(year))"
   ]
  },
  {
   "cell_type": "code",
   "execution_count": 24,
   "id": "f89d4d32",
   "metadata": {},
   "outputs": [
    {
     "name": "stdout",
     "output_type": "stream",
     "text": [
      "Enter a year: 4\n",
      "True\n"
     ]
    }
   ],
   "source": [
    "def is_leap(year):\n",
    "    leap = False\n",
    "    \n",
    "    if year % 4 == 0:\n",
    "        if year % 100 == 0:\n",
    "            if year % 400 == 0:\n",
    "                leap = True\n",
    "        else:\n",
    "            leap = True\n",
    "    \n",
    "    return leap\n",
    "\n",
    "year = int(input(\"Enter a year: \"))\n",
    "print(is_leap(year))\n"
   ]
  },
  {
   "cell_type": "code",
   "execution_count": 29,
   "id": "612d531e",
   "metadata": {},
   "outputs": [
    {
     "name": "stdout",
     "output_type": "stream",
     "text": [
      "5\n",
      "1\n",
      "2\n",
      "3\n",
      "4\n",
      "5\n"
     ]
    }
   ],
   "source": [
    "n = int(input())\n",
    "for i in range(1,n+1):\n",
    "    print(str(i))    \n",
    "    \n",
    "    \n",
    "    \n",
    "    \n",
    "    "
   ]
  },
  {
   "cell_type": "code",
   "execution_count": 31,
   "id": "13c8ffb4",
   "metadata": {},
   "outputs": [
    {
     "name": "stdout",
     "output_type": "stream",
     "text": [
      "5\n",
      "12345\n"
     ]
    }
   ],
   "source": [
    "if __name__ == '__main__':\n",
    "    n = int(input())\n",
    "    s=\"\"\n",
    "    for i in range(1,n+1):\n",
    "        s+=str(i)\n",
    "    print(s)\n",
    "      \n",
    "    \n",
    "    \n",
    "    \n",
    "    \n",
    "    "
   ]
  },
  {
   "cell_type": "code",
   "execution_count": 3,
   "id": "cf0c056a",
   "metadata": {},
   "outputs": [
    {
     "name": "stdout",
     "output_type": "stream",
     "text": [
      "(2, 4, 6, 8)\n"
     ]
    }
   ],
   "source": [
    "# Python program to demonstrate working \n",
    "# of map. \n",
    "\n",
    "# Return double of n \n",
    "def addition(n): \n",
    "\treturn n + n \n",
    "\n",
    "# We double all numbers using map() \n",
    "numbers = (1, 2, 3, 4) \n",
    "result = map(addition, numbers) \n",
    "a=list(result)\n",
    "print(tuple(a))"
   ]
  },
  {
   "cell_type": "code",
   "execution_count": 3,
   "id": "53ff29bf",
   "metadata": {},
   "outputs": [
    {
     "name": "stdout",
     "output_type": "stream",
     "text": [
      "\n"
     ]
    }
   ],
   "source": [
    "print(\"xyyxyyxy\".strip(\"xyy\"))"
   ]
  },
  {
   "cell_type": "code",
   "execution_count": 4,
   "id": "1cdaff1a",
   "metadata": {},
   "outputs": [
    {
     "name": "stdout",
     "output_type": "stream",
     "text": [
      "Enter 'quit' to exit: my name is rahul\n",
      "You entered: my name is rahul\n",
      "Enter 'quit' to exit: hi are you interested in me\n",
      "You entered: hi are you interested in me\n",
      "Enter 'quit' to exit: ok leave it \n",
      "You entered: ok leave it \n",
      "Enter 'quit' to exit: ok quit\n",
      "You entered: ok quit\n",
      "Enter 'quit' to exit: \"quit\"\n",
      "You entered: \"quit\"\n",
      "Enter 'quit' to exit: quit\n"
     ]
    }
   ],
   "source": [
    "while True:\n",
    "    user_input = input(\"Enter 'quit' to exit: \")\n",
    "    if user_input.lower() == 'quit':\n",
    "        break\n",
    "    else:\n",
    "        print(\"You entered:\", user_input)\n"
   ]
  },
  {
   "cell_type": "code",
   "execution_count": 5,
   "id": "b49d46b3",
   "metadata": {},
   "outputs": [
    {
     "ename": "NameError",
     "evalue": "name 'Example1' is not defined",
     "output_type": "error",
     "traceback": [
      "\u001b[1;31m---------------------------------------------------------------------------\u001b[0m",
      "\u001b[1;31mNameError\u001b[0m                                 Traceback (most recent call last)",
      "\u001b[1;32m~\\AppData\\Local\\Temp\\ipykernel_11092\\1610121995.py\u001b[0m in \u001b[0;36m<module>\u001b[1;34m\u001b[0m\n\u001b[0;32m      3\u001b[0m         \u001b[1;32mreturn\u001b[0m \u001b[1;34m\"Hello, original implementation!\"\u001b[0m\u001b[1;33m\u001b[0m\u001b[1;33m\u001b[0m\u001b[0m\n\u001b[0;32m      4\u001b[0m     \u001b[0mExample1\u001b[0m\u001b[1;33m=\u001b[0m\u001b[0mExample\u001b[0m\u001b[1;33m(\u001b[0m\u001b[1;33m)\u001b[0m\u001b[1;33m\u001b[0m\u001b[1;33m\u001b[0m\u001b[0m\n\u001b[1;32m----> 5\u001b[1;33m \u001b[0mprint\u001b[0m\u001b[1;33m(\u001b[0m\u001b[0mExample1\u001b[0m\u001b[1;33m.\u001b[0m\u001b[0msay_hello\u001b[0m\u001b[1;33m)\u001b[0m\u001b[1;33m\u001b[0m\u001b[1;33m\u001b[0m\u001b[0m\n\u001b[0m\u001b[0;32m      6\u001b[0m \u001b[1;31m# Monkey patching the Example class\u001b[0m\u001b[1;33m\u001b[0m\u001b[1;33m\u001b[0m\u001b[0m\n\u001b[0;32m      7\u001b[0m \u001b[1;32mdef\u001b[0m \u001b[0mnew_say_hello\u001b[0m\u001b[1;33m(\u001b[0m\u001b[0mself\u001b[0m\u001b[1;33m)\u001b[0m\u001b[1;33m:\u001b[0m\u001b[1;33m\u001b[0m\u001b[1;33m\u001b[0m\u001b[0m\n",
      "\u001b[1;31mNameError\u001b[0m: name 'Example1' is not defined"
     ]
    }
   ],
   "source": [
    "class Example:\n",
    "    def say_hello(self):\n",
    "        return \"Hello, original implementation!\"\n",
    "    Example1=Example()\n",
    "print(Example1.say_hello)\n",
    "# Monkey patching the Example class\n",
    "def new_say_hello(self):\n",
    "    return \"Hello, monkey-patched implementation!\"\n",
    "\n",
    "# Applying the monkey patch\n",
    "Example.say_hello = new_say_hello\n",
    "\n",
    "# Creating an instance of Example\n",
    "obj = Example()\n",
    "\n",
    "# Calling the modified method\n",
    "print(obj.say_hello())  # Output: Hello, monkey-patched implementation!\n"
   ]
  },
  {
   "cell_type": "code",
   "execution_count": 7,
   "id": "906cbf94",
   "metadata": {},
   "outputs": [
    {
     "name": "stdout",
     "output_type": "stream",
     "text": [
      "Hello, original implementation!\n",
      "Hello, monkey-patched implementation!\n"
     ]
    }
   ],
   "source": [
    "# Definition of the Example class with a method say_hello\n",
    "class Example:\n",
    "    def say_hello(self):\n",
    "        return \"Hello, original implementation!\"\n",
    "\n",
    "# Creating an instance of Example class\n",
    "Example1 = Example()\n",
    "\n",
    "# Printing the original say_hello method\n",
    "print(Example1.say_hello())  # Output: <bound method Example.say_hello of <__main__.Example object at 0x...>>\n",
    "\n",
    "# Monkey patching the Example class by defining a new_say_hello function\n",
    "def new_say_hello(self):\n",
    "    return \"Hello, monkey-patched implementation!\"\n",
    "\n",
    "# Applying the monkey patch by assigning new_say_hello to Example.say_hello\n",
    "Example.say_hello = new_say_hello\n",
    "\n",
    "# Creating another instance of Example class\n",
    "obj = Example()\n",
    "\n",
    "# Calling the modified method after monkey patching\n",
    "print(obj.say_hello())  # Output: Hello, monkey-patched implementation!\n"
   ]
  },
  {
   "cell_type": "code",
   "execution_count": 14,
   "id": "ac175a65",
   "metadata": {},
   "outputs": [
    {
     "name": "stdout",
     "output_type": "stream",
     "text": [
      "enter a sequence of alphabets and number to printj\n",
      "False\n"
     ]
    }
   ],
   "source": [
    "sequence=input(\"enter a sequence of alphabets and number to print\")\n",
    "for seq in sequence:\n",
    "    count=\"\"\n",
    "    while  isinstance(seq,str):\n",
    "        count+=seq\n",
    "    time=0    \n",
    "    while isinstance(seq,int):\n",
    "        times=int(times)*10+int(seq)\n",
    "    for i in range(0,times):\n",
    "        print(count)\n",
    "        \n",
    "       \n",
    "print(isinstance(3,str))"
   ]
  },
  {
   "cell_type": "code",
   "execution_count": 22,
   "id": "4e372501",
   "metadata": {},
   "outputs": [
    {
     "name": "stdout",
     "output_type": "stream",
     "text": [
      "Enter a sequence of alphabets and numbers: 0k2k\n",
      "kk\n",
      "kk\n"
     ]
    }
   ],
   "source": [
    "sequence = input(\"Enter a sequence of alphabets and numbers: \")\n",
    "\n",
    "count = \"\"\n",
    "times = 0\n",
    "for char in sequence:\n",
    "    if char.isalpha():\n",
    "        count += char\n",
    "    elif char.isdigit():\n",
    "        times = times * 10 + int(char)\n",
    "    elif char.isspace():\n",
    "        if count and times > 0:\n",
    "            for i in range(times):\n",
    "                print(count)\n",
    "        count = \"\"\n",
    "        times = 0\n",
    "\n",
    "# Print any remaining characters\n",
    "if count and times > 0:\n",
    "    for i in range(times):\n",
    "        print(count)\n"
   ]
  },
  {
   "cell_type": "code",
   "execution_count": null,
   "id": "9c28465e",
   "metadata": {},
   "outputs": [],
   "source": [
    "3[a2[c]]=3[acc]=accaccacc"
   ]
  },
  {
   "cell_type": "code",
   "execution_count": 26,
   "id": "2acdc993",
   "metadata": {},
   "outputs": [
    {
     "name": "stdout",
     "output_type": "stream",
     "text": [
      "a\n",
      "c\n",
      "accaccaccaccaccaccaccaccaccacc\n"
     ]
    }
   ],
   "source": [
    "def decode_string(s):\n",
    "    stack = []\n",
    "    current_num = 0\n",
    "    current_str = ''\n",
    "    \n",
    "    for char in s:\n",
    "        if char.isdigit():\n",
    "            current_num = current_num * 10 + int(char)\n",
    "        elif char == '[':\n",
    "            stack.append((current_num, current_str))\n",
    "            current_num = 0\n",
    "            current_str = ''\n",
    "        elif char == ']':\n",
    "            num, prev_str = stack.pop()\n",
    "            current_str = prev_str + current_str * num\n",
    "        else:\n",
    "            current_str += char\n",
    "            print(current_str)\n",
    "    \n",
    "    return current_str\n",
    "\n",
    "# Example usage\n",
    "encoded_string = \"10[a2[c]]\"\n",
    "decoded_string = decode_string(encoded_string)\n",
    "print(decoded_string)  # Output: \"aaabcbc\"\n"
   ]
  },
  {
   "cell_type": "code",
   "execution_count": 28,
   "id": "5866295e",
   "metadata": {},
   "outputs": [
    {
     "ename": "KeyError",
     "evalue": "'lname'",
     "output_type": "error",
     "traceback": [
      "\u001b[1;31m---------------------------------------------------------------------------\u001b[0m",
      "\u001b[1;31mKeyError\u001b[0m                                  Traceback (most recent call last)",
      "\u001b[1;32m~\\AppData\\Local\\Temp\\ipykernel_11092\\1354438634.py\u001b[0m in \u001b[0;36m<module>\u001b[1;34m\u001b[0m\n\u001b[0;32m      2\u001b[0m   \u001b[0mprint\u001b[0m\u001b[1;33m(\u001b[0m\u001b[1;34m\"His last name is \"\u001b[0m \u001b[1;33m+\u001b[0m \u001b[0mkid\u001b[0m\u001b[1;33m[\u001b[0m\u001b[1;34m\"lname\"\u001b[0m\u001b[1;33m]\u001b[0m\u001b[1;33m)\u001b[0m\u001b[1;33m\u001b[0m\u001b[1;33m\u001b[0m\u001b[0m\n\u001b[0;32m      3\u001b[0m \u001b[1;33m\u001b[0m\u001b[0m\n\u001b[1;32m----> 4\u001b[1;33m \u001b[0mmy_function\u001b[0m\u001b[1;33m(\u001b[0m\u001b[0mfname\u001b[0m \u001b[1;33m=\u001b[0m \u001b[1;34m\"Tobias\"\u001b[0m\u001b[1;33m)\u001b[0m\u001b[1;33m\u001b[0m\u001b[1;33m\u001b[0m\u001b[0m\n\u001b[0m",
      "\u001b[1;32m~\\AppData\\Local\\Temp\\ipykernel_11092\\1354438634.py\u001b[0m in \u001b[0;36mmy_function\u001b[1;34m(**kid)\u001b[0m\n\u001b[0;32m      1\u001b[0m \u001b[1;32mdef\u001b[0m \u001b[0mmy_function\u001b[0m\u001b[1;33m(\u001b[0m\u001b[1;33m**\u001b[0m\u001b[0mkid\u001b[0m\u001b[1;33m)\u001b[0m\u001b[1;33m:\u001b[0m\u001b[1;33m\u001b[0m\u001b[1;33m\u001b[0m\u001b[0m\n\u001b[1;32m----> 2\u001b[1;33m   \u001b[0mprint\u001b[0m\u001b[1;33m(\u001b[0m\u001b[1;34m\"His last name is \"\u001b[0m \u001b[1;33m+\u001b[0m \u001b[0mkid\u001b[0m\u001b[1;33m[\u001b[0m\u001b[1;34m\"lname\"\u001b[0m\u001b[1;33m]\u001b[0m\u001b[1;33m)\u001b[0m\u001b[1;33m\u001b[0m\u001b[1;33m\u001b[0m\u001b[0m\n\u001b[0m\u001b[0;32m      3\u001b[0m \u001b[1;33m\u001b[0m\u001b[0m\n\u001b[0;32m      4\u001b[0m \u001b[0mmy_function\u001b[0m\u001b[1;33m(\u001b[0m\u001b[0mfname\u001b[0m \u001b[1;33m=\u001b[0m \u001b[1;34m\"Tobias\"\u001b[0m\u001b[1;33m)\u001b[0m\u001b[1;33m\u001b[0m\u001b[1;33m\u001b[0m\u001b[0m\n",
      "\u001b[1;31mKeyError\u001b[0m: 'lname'"
     ]
    }
   ],
   "source": [
    "def my_function(**kid):\n",
    "  print(\"His last name is \" + kid[\"lname\"])\n",
    "\n",
    "my_function(fname = \"Tobias\")\n"
   ]
  },
  {
   "cell_type": "code",
   "execution_count": 35,
   "id": "c0c7402d",
   "metadata": {},
   "outputs": [
    {
     "name": "stdout",
     "output_type": "stream",
     "text": [
      "\n",
      "<class 'list'>\n",
      "[(6, '')]\n",
      "\n",
      "\n",
      "<class 'list'>\n",
      "[(6, ''), (3, '')]\n",
      "\n",
      "a\n",
      "aaa\n",
      "aaa\n",
      "<class 'list'>\n",
      "[(6, ''), (2, 'aaa')]\n",
      "\n",
      "b\n",
      "bc\n",
      "aaabcbc\n",
      "aaabcbcaaabcbcaaabcbcaaabcbcaaabcbcaaabcbc\n",
      "aaabcbcaaabcbcaaabcbcaaabcbcaaabcbcaaabcbc\n"
     ]
    }
   ],
   "source": [
    "def decode_string(s):\n",
    "    stack = []\n",
    "    current_num = 0\n",
    "    current_str = ''\n",
    "    \n",
    "    for char in s:\n",
    "        if char.isdigit():\n",
    "            current_num = current_num * 10 + int(char)\n",
    "        elif char == '[':\n",
    "            stack.append((current_num, current_str))\n",
    "            print(type(stack))\n",
    "            print(stack)\n",
    "            current_num = 0\n",
    "            current_str = ''\n",
    "        elif char == ']':\n",
    "            num, prev_str = stack.pop()\n",
    "            current_str = prev_str + current_str * num\n",
    "        else:\n",
    "            current_str += char\n",
    "        print(current_str)\n",
    "    return current_str\n",
    "\n",
    "# Example usage\n",
    "encoded_string = \"6[3[a]2[bc]]\"\n",
    "decoded_string = decode_string(encoded_string)\n",
    "print(decoded_string)  # Output: \"aaabcbc\"\n"
   ]
  },
  {
   "cell_type": "code",
   "execution_count": 5,
   "id": "ae84777c",
   "metadata": {},
   "outputs": [
    {
     "name": "stdout",
     "output_type": "stream",
     "text": [
      "(1, 2) True\n",
      "(2, 2) True\n",
      "(1, 2) True\n",
      "(4, 2) True\n",
      "(1, 2) True\n",
      "(2, 2) True\n",
      "(1, 2) True\n",
      "True\n",
      "(7, 10) False\n",
      "False\n"
     ]
    }
   ],
   "source": [
    "def is_power_of(number, base):\n",
    "    # Base case: when number is smaller than base.\n",
    "    if number < base:\n",
    "        # If number is equal to 1, it's a power (base**0).\n",
    "        \n",
    "        return number == 1\n",
    "    \n",
    "    # Recursive case: keep dividing number by base.\n",
    "    print((number // base, base), is_power_of(number // base, base))\n",
    "    return is_power_of(number // base, base)\n",
    "\n",
    "# Test cases\n",
    "print(is_power_of(8, 2))  # Should be True\n",
    "#print(is_power_of(64, 4))  \n",
    "print(is_power_of(70, 10))"
   ]
  },
  {
   "cell_type": "code",
   "execution_count": 7,
   "id": "ad26e0a5",
   "metadata": {},
   "outputs": [
    {
     "name": "stdout",
     "output_type": "stream",
     "text": [
      "True\n",
      "True\n",
      "False\n"
     ]
    }
   ],
   "source": [
    "def is_power_of(number, base):\n",
    "  # Base case: when number is smaller than base.\n",
    "  if number < base:\n",
    "    # If number is equal to 1, it's a power (base**0).\n",
    "    return number==1\n",
    "\n",
    "  # Recursive case: keep dividing number by base.\n",
    "  return is_power_of(number//base, base)\n",
    "\n",
    "print(is_power_of(8,2)) # Should be True\n",
    "print(is_power_of(64,4)) # Should be True\n",
    "print(is_power_of(70,10)) # Should be False"
   ]
  },
  {
   "cell_type": "code",
   "execution_count": 8,
   "id": "ea154fa9",
   "metadata": {},
   "outputs": [
    {
     "ename": "SyntaxError",
     "evalue": "invalid syntax (3969759935.py, line 3)",
     "output_type": "error",
     "traceback": [
      "\u001b[1;36m  File \u001b[1;32m\"C:\\Users\\Hp\\AppData\\Local\\Temp\\ipykernel_11684\\3969759935.py\"\u001b[1;36m, line \u001b[1;32m3\u001b[0m\n\u001b[1;33m    1 point\u001b[0m\n\u001b[1;37m      ^\u001b[0m\n\u001b[1;31mSyntaxError\u001b[0m\u001b[1;31m:\u001b[0m invalid syntax\n"
     ]
    }
   ],
   "source": [
    "The count_users function recursively counts the amount of users that belong to a group in the company system, by going through each of the members of a group and if one of them is a group, recursively calling the function and counting the members. But it has a bug! Can you spot the problem and fix it?\n",
    "\n",
    "1 point\n"
   ]
  },
  {
   "cell_type": "code",
   "execution_count": 15,
   "id": "6d864cc7",
   "metadata": {},
   "outputs": [
    {
     "name": "stdout",
     "output_type": "stream",
     "text": [
      "2\n",
      "2\n"
     ]
    },
    {
     "data": {
      "text/plain": [
       "2"
      ]
     },
     "execution_count": 15,
     "metadata": {},
     "output_type": "execute_result"
    }
   ],
   "source": [
    "def digits(n):\n",
    "    count = 0\n",
    "    while (n!=0): # Complete the while loop condition\n",
    "        # Complete the body of the while loop. This should include \n",
    "        # performing a calculation and incrementing a variable in the\n",
    "        # appropriate order.  \n",
    "        n=n//10 \n",
    "        count=count+1\n",
    "    if n == 0:\n",
    "        count += 1\n",
    "        print(count)\n",
    "   \n",
    "    return count\n",
    "digits(2)\n",
    "digits(1)"
   ]
  },
  {
   "cell_type": "code",
   "execution_count": 22,
   "id": "335f1444",
   "metadata": {},
   "outputs": [
    {
     "name": "stdout",
     "output_type": "stream",
     "text": [
      "count = 1 0\n",
      "count = 1 0\n",
      "1 2 2\n"
     ]
    }
   ],
   "source": [
    "def digit(n):\n",
    "    count = 0\n",
    "    while (n != 0): # Complete the while loop condition\n",
    "        n = n // 10\n",
    "        count = count + 1\n",
    "        print(\"count =\",count,n)\n",
    "    if n == 0:\n",
    "        count += 1\n",
    "    return count\n",
    "print(digit(0),digit(1),digit(2))\n"
   ]
  },
  {
   "cell_type": "code",
   "execution_count": 24,
   "id": "cea4c80f",
   "metadata": {},
   "outputs": [
    {
     "name": "stdout",
     "output_type": "stream",
     "text": [
      "0\n",
      "1\n",
      "2\n",
      "3\n",
      "4\n",
      "5\n"
     ]
    }
   ],
   "source": [
    "for i in range (6):\n",
    "    print(i)"
   ]
  },
  {
   "cell_type": "code",
   "execution_count": 26,
   "id": "3684b72c",
   "metadata": {},
   "outputs": [
    {
     "ename": "SyntaxError",
     "evalue": "invalid syntax (1463643380.py, line 3)",
     "output_type": "error",
     "traceback": [
      "\u001b[1;36m  File \u001b[1;32m\"C:\\Users\\Hp\\AppData\\Local\\Temp\\ipykernel_11684\\1463643380.py\"\u001b[1;36m, line \u001b[1;32m3\u001b[0m\n\u001b[1;33m    print(if check in string)\u001b[0m\n\u001b[1;37m          ^\u001b[0m\n\u001b[1;31mSyntaxError\u001b[0m\u001b[1;31m:\u001b[0m invalid syntax\n"
     ]
    }
   ],
   "source": [
    "\n",
    "\n",
    "def lengthOfLongestSubstring(string):\n",
    "    check=\"\"\n",
    "    print(if check in string)\n",
    "lengthOfSubstring(\"hello\")"
   ]
  },
  {
   "cell_type": "code",
   "execution_count": 28,
   "id": "74d483c0",
   "metadata": {},
   "outputs": [
    {
     "name": "stdout",
     "output_type": "stream",
     "text": [
      "True\n"
     ]
    }
   ],
   "source": [
    "print(\"stri\" in \"string\")\n"
   ]
  },
  {
   "cell_type": "code",
   "execution_count": 30,
   "id": "59809a87",
   "metadata": {},
   "outputs": [
    {
     "name": "stdout",
     "output_type": "stream",
     "text": [
      "True\n"
     ]
    }
   ],
   "source": [
    "def lengthOfLongestSubstring(string):\n",
    "    check=\"\"\n",
    "    \n",
    "    print(check in string)\n",
    "lengthOfLongestSubstring(\"hello\")"
   ]
  },
  {
   "cell_type": "code",
   "execution_count": 31,
   "id": "a87d4aa8",
   "metadata": {},
   "outputs": [
    {
     "ename": "TypeError",
     "evalue": "unsupported operand type(s) for -: 'str' and 'str'",
     "output_type": "error",
     "traceback": [
      "\u001b[1;31m---------------------------------------------------------------------------\u001b[0m",
      "\u001b[1;31mTypeError\u001b[0m                                 Traceback (most recent call last)",
      "\u001b[1;32m~\\AppData\\Local\\Temp\\ipykernel_11684\\379307286.py\u001b[0m in \u001b[0;36m<module>\u001b[1;34m\u001b[0m\n\u001b[1;32m----> 1\u001b[1;33m \u001b[1;34m\"hello\"\u001b[0m\u001b[1;33m-\u001b[0m\u001b[1;34m\"hel\"\u001b[0m\u001b[1;33m\u001b[0m\u001b[1;33m\u001b[0m\u001b[0m\n\u001b[0m",
      "\u001b[1;31mTypeError\u001b[0m: unsupported operand type(s) for -: 'str' and 'str'"
     ]
    }
   ],
   "source": [
    "\"hello\"-\"hel\""
   ]
  },
  {
   "cell_type": "code",
   "execution_count": 34,
   "id": "e673ec2e",
   "metadata": {},
   "outputs": [
    {
     "name": "stdout",
     "output_type": "stream",
     "text": [
      "max_length= 1\n",
      "max_length= 2\n",
      "max_length= 3\n",
      "start= 1\n",
      "max_length= 3\n",
      "start= 2\n",
      "max_length= 3\n",
      "start= 3\n",
      "max_length= 3\n",
      "start= 5\n",
      "max_length= 3\n",
      "start= 7\n",
      "max_length= 3\n",
      "3\n",
      "max_length= 1\n",
      "start= 1\n",
      "max_length= 1\n",
      "start= 2\n",
      "max_length= 1\n",
      "start= 3\n",
      "max_length= 1\n",
      "start= 4\n",
      "max_length= 1\n",
      "1\n",
      "max_length= 1\n",
      "max_length= 2\n",
      "start= 2\n",
      "max_length= 2\n",
      "max_length= 2\n",
      "max_length= 3\n",
      "start= 3\n",
      "max_length= 3\n",
      "3\n"
     ]
    }
   ],
   "source": [
    "def lengthOfLongestSubstring(s):\n",
    "    char_index = {}  # Dictionary to store the index of characters in the string\n",
    "    max_length = 0  # Variable to store the maximum length of substring\n",
    "    start = 0  # Start index of the substring\n",
    "\n",
    "    for end, char in enumerate(s):\n",
    "        if char in char_index and char_index[char] >= start:\n",
    "            start = char_index[char] + 1\n",
    "            print(\"start=\",start)\n",
    "\n",
    "        char_index[char] = end\n",
    "        max_length = max(max_length, end - start + 1)\n",
    "        print(\"max_length=\",max_length)\n",
    "    return max_length\n",
    "\n",
    "# Example usage\n",
    "print(lengthOfLongestSubstring(\"abcabcbb\"))  # Output: 3\n",
    "print(lengthOfLongestSubstring(\"bbbbb\"))    # Output: 1\n",
    "print(lengthOfLongestSubstring(\"pwwkew\"))   # Output: 3\n"
   ]
  },
  {
   "cell_type": "code",
   "execution_count": 35,
   "id": "3cf9e409",
   "metadata": {},
   "outputs": [
    {
     "name": "stdout",
     "output_type": "stream",
     "text": [
      "['apple', 'banana', 'mango']\n"
     ]
    }
   ],
   "source": [
    "fruits = [\"apple\", \"banana\", \"cherry\", \"kiwi\", \"mango\"]\n",
    "\n",
    "newlist = [x for x in fruits if \"a\" in x]\n",
    "\n",
    "print(newlist)"
   ]
  },
  {
   "cell_type": "code",
   "execution_count": 38,
   "id": "28b087e4",
   "metadata": {},
   "outputs": [
    {
     "name": "stdout",
     "output_type": "stream",
     "text": [
      "['navin']\n"
     ]
    }
   ],
   "source": [
    "List =[\"nav\",\"navin\",\"navdeep\"]\n",
    "new_list=[x for x in List if \"navi\" in x]\n",
    "print(new_list)"
   ]
  },
  {
   "cell_type": "code",
   "execution_count": 41,
   "id": "bfb0a119",
   "metadata": {},
   "outputs": [
    {
     "name": "stdout",
     "output_type": "stream",
     "text": [
      "rahul\n"
     ]
    }
   ],
   "source": [
    "thisdict = {\n",
    "  \"brand\": \"Ford\",\n",
    "  \"model\": \"Mustang\",\n",
    "  \"year\": 1964,\"name\":\"rahul\"\n",
    "}\n",
    "print(thisdict[\"name\"])"
   ]
  },
  {
   "cell_type": "code",
   "execution_count": 18,
   "id": "0700391d",
   "metadata": {},
   "outputs": [
    {
     "name": "stdout",
     "output_type": "stream",
     "text": [
      "[(0, 0), (0, 1), (1, 0), (1, 1), (2, 0), (2, 1), (3, 0), (3, 1), (4, 0), (4, 1), (5, 0), (5, 1), (6, 0), (6, 1), (7, 0), (7, 1), (8, 0), (8, 1), (9, 0), (10, 1), (11, 0), (11, 1), (12, 0), (12, 1), (13, 0), (13, 1), (14, 0), (14, 1), (15, 0), (15, 1), (16, 0), (16, 1), (17, 0), (17, 1), (18, 0), (18, 1), (19, 0), (19, 1)]\n"
     ]
    }
   ],
   "source": [
    "List=[ (x,y) for x in range(20) for y in range (2) if(x+y!=10)]\n",
    "print(List)"
   ]
  },
  {
   "cell_type": "code",
   "execution_count": 2,
   "id": "10d35a45",
   "metadata": {},
   "outputs": [
    {
     "name": "stdout",
     "output_type": "stream",
     "text": [
      "1\n",
      "2\n",
      "3\n",
      "4\n",
      "[[1, 1, 1], [1, 1, 3], [1, 2, 2], [1, 2, 3]]\n"
     ]
    }
   ],
   "source": [
    "    x = int(input())\n",
    "    y = int(input())\n",
    "    z = int(input())\n",
    "    n = int(input())\n",
    "    \n",
    "List=[[i,j,k] for i in range(1,x+1) for j in range(1,y+1) for k in range(1,z+1) if i+j+k!=n ]\n",
    "print(List)"
   ]
  },
  {
   "cell_type": "code",
   "execution_count": 25,
   "id": "e3a4cadc",
   "metadata": {},
   "outputs": [
    {
     "name": "stdout",
     "output_type": "stream",
     "text": [
      "0\n",
      "1\n"
     ]
    }
   ],
   "source": [
    "for i in range(2):print(i)"
   ]
  },
  {
   "cell_type": "code",
   "execution_count": 4,
   "id": "17c8e20f",
   "metadata": {},
   "outputs": [
    {
     "ename": "ValueError",
     "evalue": "'b' is not in list",
     "output_type": "error",
     "traceback": [
      "\u001b[1;31m---------------------------------------------------------------------------\u001b[0m",
      "\u001b[1;31mValueError\u001b[0m                                Traceback (most recent call last)",
      "\u001b[1;32m~\\AppData\\Local\\Temp\\ipykernel_12444\\3976040644.py\u001b[0m in \u001b[0;36m<module>\u001b[1;34m\u001b[0m\n\u001b[0;32m      7\u001b[0m \u001b[0mexample_list\u001b[0m \u001b[1;33m=\u001b[0m \u001b[1;33m[\u001b[0m\u001b[1;33m[\u001b[0m\u001b[1;34m'a'\u001b[0m\u001b[1;33m,\u001b[0m \u001b[1;34m'c'\u001b[0m\u001b[1;33m,\u001b[0m \u001b[1;34m'c'\u001b[0m\u001b[1;33m]\u001b[0m\u001b[1;33m,\u001b[0m \u001b[1;33m[\u001b[0m\u001b[1;34m'd'\u001b[0m\u001b[1;33m,\u001b[0m \u001b[1;34m'e'\u001b[0m\u001b[1;33m,\u001b[0m \u001b[1;34m'f'\u001b[0m\u001b[1;33m]\u001b[0m\u001b[1;33m,\u001b[0m \u001b[1;33m[\u001b[0m\u001b[1;34m'g'\u001b[0m\u001b[1;33m,\u001b[0m \u001b[1;34m'h'\u001b[0m\u001b[1;33m]\u001b[0m\u001b[1;33m]\u001b[0m\u001b[1;33m\u001b[0m\u001b[1;33m\u001b[0m\u001b[0m\n\u001b[0;32m      8\u001b[0m \u001b[1;33m\u001b[0m\u001b[0m\n\u001b[1;32m----> 9\u001b[1;33m \u001b[0mfind_in_list_of_list\u001b[0m\u001b[1;33m(\u001b[0m\u001b[0mexample_list\u001b[0m\u001b[1;33m,\u001b[0m \u001b[1;34m'b'\u001b[0m\u001b[1;33m)\u001b[0m\u001b[1;33m\u001b[0m\u001b[1;33m\u001b[0m\u001b[0m\n\u001b[0m\u001b[0;32m     10\u001b[0m \u001b[1;33m(\u001b[0m\u001b[1;36m0\u001b[0m\u001b[1;33m,\u001b[0m \u001b[1;36m1\u001b[0m\u001b[1;33m)\u001b[0m\u001b[1;33m\u001b[0m\u001b[1;33m\u001b[0m\u001b[0m\n",
      "\u001b[1;32m~\\AppData\\Local\\Temp\\ipykernel_12444\\3976040644.py\u001b[0m in \u001b[0;36mfind_in_list_of_list\u001b[1;34m(mylist, char)\u001b[0m\n\u001b[0;32m      3\u001b[0m         \u001b[1;32mif\u001b[0m \u001b[0mchar\u001b[0m \u001b[1;32min\u001b[0m \u001b[0msub_list\u001b[0m\u001b[1;33m:\u001b[0m\u001b[1;33m\u001b[0m\u001b[1;33m\u001b[0m\u001b[0m\n\u001b[0;32m      4\u001b[0m             \u001b[1;32mreturn\u001b[0m \u001b[1;33m(\u001b[0m\u001b[0mmylist\u001b[0m\u001b[1;33m.\u001b[0m\u001b[0mindex\u001b[0m\u001b[1;33m(\u001b[0m\u001b[0msub_list\u001b[0m\u001b[1;33m)\u001b[0m\u001b[1;33m,\u001b[0m \u001b[0msub_list\u001b[0m\u001b[1;33m.\u001b[0m\u001b[0mindex\u001b[0m\u001b[1;33m(\u001b[0m\u001b[0mchar\u001b[0m\u001b[1;33m)\u001b[0m\u001b[1;33m)\u001b[0m\u001b[1;33m\u001b[0m\u001b[1;33m\u001b[0m\u001b[0m\n\u001b[1;32m----> 5\u001b[1;33m     \u001b[1;32mraise\u001b[0m \u001b[0mValueError\u001b[0m\u001b[1;33m(\u001b[0m\u001b[1;34m\"'{char}' is not in list\"\u001b[0m\u001b[1;33m.\u001b[0m\u001b[0mformat\u001b[0m\u001b[1;33m(\u001b[0m\u001b[0mchar\u001b[0m \u001b[1;33m=\u001b[0m \u001b[0mchar\u001b[0m\u001b[1;33m)\u001b[0m\u001b[1;33m)\u001b[0m\u001b[1;33m\u001b[0m\u001b[1;33m\u001b[0m\u001b[0m\n\u001b[0m\u001b[0;32m      6\u001b[0m \u001b[1;33m\u001b[0m\u001b[0m\n\u001b[0;32m      7\u001b[0m \u001b[0mexample_list\u001b[0m \u001b[1;33m=\u001b[0m \u001b[1;33m[\u001b[0m\u001b[1;33m[\u001b[0m\u001b[1;34m'a'\u001b[0m\u001b[1;33m,\u001b[0m \u001b[1;34m'c'\u001b[0m\u001b[1;33m,\u001b[0m \u001b[1;34m'c'\u001b[0m\u001b[1;33m]\u001b[0m\u001b[1;33m,\u001b[0m \u001b[1;33m[\u001b[0m\u001b[1;34m'd'\u001b[0m\u001b[1;33m,\u001b[0m \u001b[1;34m'e'\u001b[0m\u001b[1;33m,\u001b[0m \u001b[1;34m'f'\u001b[0m\u001b[1;33m]\u001b[0m\u001b[1;33m,\u001b[0m \u001b[1;33m[\u001b[0m\u001b[1;34m'g'\u001b[0m\u001b[1;33m,\u001b[0m \u001b[1;34m'h'\u001b[0m\u001b[1;33m]\u001b[0m\u001b[1;33m]\u001b[0m\u001b[1;33m\u001b[0m\u001b[1;33m\u001b[0m\u001b[0m\n",
      "\u001b[1;31mValueError\u001b[0m: 'b' is not in list"
     ]
    }
   ],
   "source": [
    "def find_in_list_of_list(mylist, char):\n",
    "    for sub_list in mylist:\n",
    "        if char in sub_list:\n",
    "            return (mylist.index(sub_list), sub_list.index(char))\n",
    "    raise ValueError(\"'{char}' is not in list\".format(char = char))\n",
    "\n",
    "example_list = [['a', 'c', 'c'], ['d', 'e', 'f'], ['g', 'h']]\n",
    "\n",
    "find_in_list_of_list(example_list, 'b')\n",
    "(0, 1)"
   ]
  },
  {
   "cell_type": "code",
   "execution_count": null,
   "id": "989ef951",
   "metadata": {},
   "outputs": [],
   "source": []
  }
 ],
 "metadata": {
  "kernelspec": {
   "display_name": "Python 3 (ipykernel)",
   "language": "python",
   "name": "python3"
  },
  "language_info": {
   "codemirror_mode": {
    "name": "ipython",
    "version": 3
   },
   "file_extension": ".py",
   "mimetype": "text/x-python",
   "name": "python",
   "nbconvert_exporter": "python",
   "pygments_lexer": "ipython3",
   "version": "3.9.13"
  }
 },
 "nbformat": 4,
 "nbformat_minor": 5
}
